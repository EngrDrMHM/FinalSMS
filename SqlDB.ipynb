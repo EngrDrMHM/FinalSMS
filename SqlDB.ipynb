{
 "cells": [
  {
   "cell_type": "code",
   "execution_count": null,
   "id": "2f0b561e-8bdb-4dae-800f-a3004f87bf04",
   "metadata": {},
   "outputs": [],
   "source": []
  },
  {
   "cell_type": "code",
   "execution_count": null,
   "id": "0120316a-65fc-4630-afca-db36e8e3d405",
   "metadata": {},
   "outputs": [],
   "source": []
  },
  {
   "cell_type": "code",
   "execution_count": 7,
   "id": "3b24d246-a5d5-4e4f-ba8d-8af8a532320a",
   "metadata": {},
   "outputs": [],
   "source": [
    "import sqlite3"
   ]
  },
  {
   "cell_type": "code",
   "execution_count": null,
   "id": "5e865985-bd0a-4384-994c-6ef76d4844e7",
   "metadata": {},
   "outputs": [],
   "source": [
    "courscode=int(input(\"Enter Course Code\"))\n",
    "coursName=input(\"Enter Course Name\")\n",
    "creditHours=int(input(\"Enter CH\"))\n",
    "tid=int(input(\"Enter Teacher ID\"))\n",
    "\n"
   ]
  },
  {
   "cell_type": "code",
   "execution_count": 10,
   "id": "d810925c-d2fe-4393-818c-dde10d344da0",
   "metadata": {},
   "outputs": [],
   "source": [
    "conn = sqlite3.connect(\"SMSDB.db\")\n",
    "c = conn.cursor()\n",
    "# Create the table if it doesn't exist\n",
    "c.execute(f\"SELECT * FROM Coursetb\")\n",
    "rows = c.fetchall()\n",
    "# Close the connection\n",
    "conn.close()\n"
   ]
  },
  {
   "cell_type": "code",
   "execution_count": 11,
   "id": "280e3182-d248-4c4a-a295-68eb697cd34b",
   "metadata": {},
   "outputs": [
    {
     "data": {
      "text/plain": [
       "[(1, 'Python', 3, 1)]"
      ]
     },
     "execution_count": 11,
     "metadata": {},
     "output_type": "execute_result"
    }
   ],
   "source": [
    "rows"
   ]
  },
  {
   "cell_type": "code",
   "execution_count": null,
   "id": "77dd797e-c7f9-4b30-bcf4-669c38a44695",
   "metadata": {},
   "outputs": [],
   "source": [
    "INSERT INTO Coursetb(CC, Cname, CH, TID) VALUES (?, ?, ?, ?)\", (courscode, coursName, creditHours, tid)"
   ]
  },
  {
   "cell_type": "code",
   "execution_count": 21,
   "id": "4ddd5621-655c-4956-874c-ca14db246175",
   "metadata": {},
   "outputs": [
    {
     "name": "stdin",
     "output_type": "stream",
     "text": [
      "Enter Course Code 3\n",
      "Enter Course Name mobile app\n",
      "Enter CH 3\n",
      "Enter Teacher ID 3\n"
     ]
    }
   ],
   "source": [
    "courscode=int(input(\"Enter Course Code\"))\n",
    "coursName=input(\"Enter Course Name\")\n",
    "creditHours=int(input(\"Enter CH\"))\n",
    "tid=int(input(\"Enter Teacher ID\"))\n",
    "\n",
    "conn = sqlite3.connect(\"SMSDB.db\")\n",
    "c = conn.cursor()\n",
    "# Create the table if it doesn't exist\n",
    "c.execute(f\"INSERT INTO Coursetb(CC, Cname, CH, TID) VALUES (?, ?, ?, ?)\", (courscode, coursName, creditHours, tid))\n",
    "# Close the connection\n",
    "conn.commit()\n",
    "conn.close()\n"
   ]
  },
  {
   "cell_type": "code",
   "execution_count": 22,
   "id": "0152254b-2060-47ad-88a7-16f4eff834d8",
   "metadata": {},
   "outputs": [],
   "source": [
    "conn = sqlite3.connect(\"SMSDB.db\")\n",
    "c = conn.cursor()\n",
    "# Create the table if it doesn't exist\n",
    "c.execute(f\"SELECT * FROM Coursetb\")\n",
    "rows = c.fetchall()\n",
    "# Close the connection\n",
    "conn.close()\n"
   ]
  },
  {
   "cell_type": "code",
   "execution_count": 23,
   "id": "0b6aa744-2cec-482a-a440-7ab1fdf7b9b1",
   "metadata": {},
   "outputs": [
    {
     "data": {
      "text/plain": [
       "[(1, 'Python', 3, 1), (2, 'java', 3, 2), (3, 'mobile app', 3, 3)]"
      ]
     },
     "execution_count": 23,
     "metadata": {},
     "output_type": "execute_result"
    }
   ],
   "source": [
    "rows"
   ]
  },
  {
   "cell_type": "code",
   "execution_count": 31,
   "id": "7e33f89a-1ecb-4de8-bf62-470f8cba61a6",
   "metadata": {},
   "outputs": [
    {
     "name": "stdin",
     "output_type": "stream",
     "text": [
      "Enter teacher Department Math\n",
      "Enter Teacher Name Asif Memon\n",
      "Enter Subject Calculus\n",
      "Enter Class PhysicalEducation\n",
      "Enter Teacher Salary 50000\n"
     ]
    }
   ],
   "source": [
    "TDept=input(\"Enter teacher Department\")\n",
    "Tname=input(\"Enter Teacher Name\")\n",
    "Tsubject=input(\"Enter Subject\")\n",
    "Tclass=input(\"Enter Class\")\n",
    "Tsalary=int(input(\"Enter Teacher Salary\"))\n",
    "\n",
    "conn = sqlite3.connect(\"SMSDB.db\")\n",
    "c = conn.cursor()\n",
    "# Create the table if it doesn't exist\n",
    "c.execute(f\"INSERT INTO Teachertb(TDept,Tname,Tsubject, Tclass, Tsalary) VALUES (?, ?,?, ?,?)\", (TDept,Tname, Tsubject, Tclass, Tsalary))\n",
    "# Close the connection\n",
    "conn.commit()\n",
    "conn.close()\n"
   ]
  },
  {
   "cell_type": "code",
   "execution_count": null,
   "id": "67d29782-910a-45d9-a255-4b9eebd64e56",
   "metadata": {},
   "outputs": [],
   "source": []
  }
 ],
 "metadata": {
  "kernelspec": {
   "display_name": "Python 3 (ipykernel)",
   "language": "python",
   "name": "python3"
  },
  "language_info": {
   "codemirror_mode": {
    "name": "ipython",
    "version": 3
   },
   "file_extension": ".py",
   "mimetype": "text/x-python",
   "name": "python",
   "nbconvert_exporter": "python",
   "pygments_lexer": "ipython3",
   "version": "3.11.4"
  }
 },
 "nbformat": 4,
 "nbformat_minor": 5
}
